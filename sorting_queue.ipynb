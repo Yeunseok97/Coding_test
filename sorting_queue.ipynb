{
  "nbformat": 4,
  "nbformat_minor": 0,
  "metadata": {
    "colab": {
      "provenance": [],
      "authorship_tag": "ABX9TyPMYsPNosmlv074aofHILV9",
      "include_colab_link": true
    },
    "kernelspec": {
      "name": "python3",
      "display_name": "Python 3"
    },
    "language_info": {
      "name": "python"
    }
  },
  "cells": [
    {
      "cell_type": "markdown",
      "metadata": {
        "id": "view-in-github",
        "colab_type": "text"
      },
      "source": [
        "<a href=\"https://colab.research.google.com/github/Yeunseok97/Coding_test/blob/main/sorting_queue.ipynb\" target=\"_parent\"><img src=\"https://colab.research.google.com/assets/colab-badge.svg\" alt=\"Open In Colab\"/></a>"
      ]
    },
    {
      "cell_type": "markdown",
      "source": [
        "# homework 1\n",
        "\n",
        "Write a function\n",
        "\n",
        "class Solution { public int solution(int[] A); }\n",
        "\n",
        "that, given an array A consisting of N integers, returns the number of distinct values in array A.\n",
        "\n",
        "For example, given array A consisting of six elements such that:\n",
        "\n",
        " A[0] = 2    A[1] = 1    A[2] = 1\n",
        " A[3] = 2    A[4] = 3    A[5] = 1\n",
        "the function should return 3, because there are 3 distinct values appearing in array A, namely 1, 2 and 3.\n",
        "\n",
        "Write an efficient algorithm for the following assumptions:\n",
        "\n",
        "N is an integer within the range [0..100,000];\n",
        "each element of array A is an integer within the range [−1,000,000..1,000,000]."
      ],
      "metadata": {
        "id": "6GN0AFqKU-wL"
      }
    },
    {
      "cell_type": "code",
      "source": [
        "def solution(A):\n",
        "    distinct_values = set()\n",
        "\n",
        "    for num in A:\n",
        "        distinct_values.add(num)\n",
        "\n",
        "    return len(distinct_values)"
      ],
      "metadata": {
        "id": "P7sqdIhyVAkS"
      },
      "execution_count": null,
      "outputs": []
    },
    {
      "cell_type": "markdown",
      "source": [
        "#homework 2\n",
        "\n",
        "A non-empty array A consisting of N integers is given. The product of triplet (P, Q, R) equates to A[P] * A[Q] * A[R] (0 ≤ P < Q < R < N).\n",
        "\n",
        "For example, array A such that:\n",
        "\n",
        "  A[0] = -3\n",
        "  A[1] = 1\n",
        "  A[2] = 2\n",
        "  A[3] = -2\n",
        "  A[4] = 5\n",
        "  A[5] = 6\n",
        "contains the following example triplets:\n",
        "\n",
        "(0, 1, 2), product is −3 * 1 * 2 = −6\n",
        "(1, 2, 4), product is 1 * 2 * 5 = 10\n",
        "(2, 4, 5), product is 2 * 5 * 6 = 60\n",
        "Your goal is to find the maximal product of any triplet.\n",
        "\n",
        "Write a function:\n",
        "\n",
        "class Solution { public int solution(int[] A); }\n",
        "\n",
        "that, given a non-empty array A, returns the value of the maximal product of any triplet.\n",
        "\n",
        "For example, given array A such that:\n",
        "\n",
        "  A[0] = -3\n",
        "  A[1] = 1\n",
        "  A[2] = 2\n",
        "  A[3] = -2\n",
        "  A[4] = 5\n",
        "  A[5] = 6\n",
        "the function should return 60, as the product of triplet (2, 4, 5) is maximal.\n",
        "\n",
        "Write an efficient algorithm for the following assumptions:\n",
        "\n",
        "N is an integer within the range [3..100,000];\n",
        "each element of array A is an integer within the range [−1,000..1,000]."
      ],
      "metadata": {
        "id": "p79DyNKbU-2f"
      }
    },
    {
      "cell_type": "code",
      "source": [
        "def solution(A):\n",
        "\n",
        "    A.sort()\n",
        "\n",
        "    product1 = A[-1] * A[-2] * A[-3]\n",
        "    product2 = A[0] * A[1] * A[-1]\n",
        "\n",
        "    return max(product1, product2)\n",
        "# 절대값이 가장 큰 음수 두 개와 양수 가장 큰 것 1개 또는\n",
        "# 가장 큰 양수 3개 골라야함."
      ],
      "metadata": {
        "colab": {
          "base_uri": "https://localhost:8080/"
        },
        "id": "kO6AntiZVArq",
        "outputId": "26c92472-7d85-4624-d91d-750c569aad3c"
      },
      "execution_count": null,
      "outputs": [
        {
          "output_type": "execute_result",
          "data": {
            "text/plain": [
              "60"
            ]
          },
          "metadata": {},
          "execution_count": 7
        }
      ]
    },
    {
      "cell_type": "markdown",
      "source": [
        "#homework3\n",
        "\n",
        "A string S consisting of N characters is considered to be properly nested if any of the following conditions is true:\n",
        "\n",
        "S is empty;\n",
        "S has the form \"(U)\" or \"[U]\" or \"{U}\" where U is a properly nested string;\n",
        "S has the form \"VW\" where V and W are properly nested strings.\n",
        "For example, the string \"{[()()]}\" is properly nested but \"([)()]\" is not.\n",
        "\n",
        "Write a function:\n",
        "\n",
        "def solution(S)\n",
        "\n",
        "that, given a string S consisting of N characters, returns 1 if S is properly nested and 0 otherwise.\n",
        "\n",
        "For example, given S = \"{[()()]}\", the function should return 1 and given S = \"([)()]\", the function should return 0, as explained above.\n",
        "\n",
        "Write an efficient algorithm for the following assumptions:\n",
        "\n",
        "N is an integer within the range [0..200,000];\n",
        "string S is made only of the following characters: '(', '{', '[', ']', '}' and/or ')'."
      ],
      "metadata": {
        "id": "CbGEUPeDU-8A"
      }
    },
    {
      "cell_type": "code",
      "source": [],
      "metadata": {
        "id": "_xTjeKTpVAyg"
      },
      "execution_count": null,
      "outputs": []
    },
    {
      "cell_type": "code",
      "source": [
        "def solution(S):\n",
        "  stack = []\n",
        "\n",
        "  for char in S:\n",
        "    if char in '([{':\n",
        "      stack.append(char)\n",
        "    else:\n",
        "      if not stack:\n",
        "        return 0\n",
        "      if (char == ')' and stack[-1] != '(') or \\\n",
        "         (char == ']' and stack[-1] != '[') or \\\n",
        "         (char == '}' and stack[-1] != '{'):\n",
        "         return 0\n",
        "\n",
        "      stack.pop()\n",
        "  return 1 if not stack else 0"
      ],
      "metadata": {
        "id": "ob2sggFKyAhx"
      },
      "execution_count": null,
      "outputs": []
    },
    {
      "cell_type": "code",
      "source": [],
      "metadata": {
        "id": "zqgetCnmqs4P"
      },
      "execution_count": null,
      "outputs": []
    },
    {
      "cell_type": "markdown",
      "source": [
        "#알고리즘\n",
        "\n",
        "- 스택을 만들고 루프를 실행한다\n",
        "- 먼저 여는 괄호가 있으면 스택에 추가\n",
        "- 스택이 비어있으면 return 0\n",
        "- 스택이 닫는괄호부터 시작이라면 끝에가 여는괄호인지 판단\n",
        "- 맞다면 pop을 한다\n",
        "- 모든 괄호가 짝인지 확인"
      ],
      "metadata": {
        "id": "RHbOrCV1vAIn"
      }
    },
    {
      "cell_type": "code",
      "source": [],
      "metadata": {
        "id": "hFXQAPBsq2JK"
      },
      "execution_count": null,
      "outputs": []
    },
    {
      "cell_type": "markdown",
      "source": [
        "#homework 4\n",
        "\n",
        "You are given two non-empty arrays A and B consisting of N integers. Arrays A and B represent N voracious fish in a river, ordered downstream along the flow of the river.\n",
        "\n",
        "The fish are numbered from 0 to N − 1. If P and Q are two fish and P < Q, then fish P is initially upstream of fish Q. Initially, each fish has a unique position.\n",
        "\n",
        "Fish number P is represented by A[P] and B[P]. Array A contains the sizes of the fish. All its elements are unique. Array B contains the directions of the fish. It contains only 0s and/or 1s, where:\n",
        "\n",
        "0 represents a fish flowing upstream,\n",
        "1 represents a fish flowing downstream.\n",
        "If two fish move in opposite directions and there are no other (living) fish between them, they will eventually meet each other. Then only one fish can stay alive − the larger fish eats the smaller one. More precisely, we say that two fish P and Q meet each other when P < Q, B[P] = 1 and B[Q] = 0, and there are no living fish between them. After they meet:\n",
        "\n",
        "If A[P] > A[Q] then P eats Q, and P will still be flowing downstream,\n",
        "If A[Q] > A[P] then Q eats P, and Q will still be flowing upstream.\n",
        "We assume that all the fish are flowing at the same speed. That is, fish moving in the same direction never meet. The goal is to calculate the number of fish that will stay alive.\n",
        "\n",
        "For example, consider arrays A and B such that:\n",
        "\n",
        "  A[0] = 4    B[0] = 0\n",
        "  A[1] = 3    B[1] = 1\n",
        "  A[2] = 2    B[2] = 0\n",
        "  A[3] = 1    B[3] = 0\n",
        "  A[4] = 5    B[4] = 0\n",
        "Initially all the fish are alive and all except fish number 1 are moving upstream. Fish number 1 meets fish number 2 and eats it, then it meets fish number 3 and eats it too. Finally, it meets fish number 4 and is eaten by it. The remaining two fish, number 0 and 4, never meet and therefore stay alive.\n",
        "\n",
        "Write a function:\n",
        "\n",
        "def solution(A, B)\n",
        "\n",
        "that, given two non-empty arrays A and B consisting of N integers, returns the number of fish that will stay alive.\n",
        "\n",
        "For example, given the arrays shown above, the function should return 2, as explained above.\n",
        "\n",
        "Write an efficient algorithm for the following assumptions:\n",
        "\n",
        "N is an integer within the range [1..100,000];\n",
        "each element of array A is an integer within the range [0..1,000,000,000];\n",
        "each element of array B is an integer that can have one of the following values: 0, 1;\n",
        "the elements of A are all distinct."
      ],
      "metadata": {
        "id": "SXV6jshXU-_W"
      }
    },
    {
      "cell_type": "code",
      "source": [
        "def solution(A,B):\n",
        "  stack = []\n",
        "  al_fish = 0\n",
        "\n",
        "  for i in range(len(A)):\n",
        "    size = A[i]\n",
        "    dir = B[i]\n",
        "\n",
        "    if dir == 1:\n",
        "      stack.append(size)\n",
        "    else:\n",
        "      while stack:\n",
        "        top_fish = stack[-1]\n",
        "        if top_fish > size:\n",
        "          break\n",
        "        else:\n",
        "          stack.pop()\n",
        "      else:\n",
        "        al_fish += 1\n",
        "  al_fish += len(stack)\n",
        "\n",
        "  return al_fish\n"
      ],
      "metadata": {
        "id": "psR3csJwVA5w"
      },
      "execution_count": null,
      "outputs": []
    },
    {
      "cell_type": "markdown",
      "source": [
        "#알고리즘\n",
        "\n",
        "- 스택만들고 살아있는 물고기 변수 초기화\n",
        "- 리스트 길이만큼 실행\n",
        "- size와 direction 지정\n",
        "- 방향이 1이면 stack에 size 지정\n",
        "- 아니라면 반대편 물고기 싹다 만남\n",
        "- 이때 스택의 가장 왼쪽에 있는 물고기가 자기의 사이즈보다 크면 반복문 멈춤 -> 먹혔으니까 멈추고 그게 아니라면 스택 싹 비운다.\n",
        "- 그 과정을 거치고 살아남았다면 살아남았다고 1 더해주고 위치가 달라 살아남은 애들은 스택에 남은 애들을 더해서 리턴해준다.\n",
        "\n"
      ],
      "metadata": {
        "id": "9vmK9I2b3B8O"
      }
    },
    {
      "cell_type": "code",
      "source": [],
      "metadata": {
        "id": "NxIiDwR9zTfr"
      },
      "execution_count": null,
      "outputs": []
    },
    {
      "cell_type": "code",
      "source": [],
      "metadata": {
        "id": "OOpYDu3lzTia"
      },
      "execution_count": null,
      "outputs": []
    },
    {
      "cell_type": "markdown",
      "source": [],
      "metadata": {
        "id": "72JHUi50U_CS"
      }
    }
  ]
}