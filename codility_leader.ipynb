{
  "nbformat": 4,
  "nbformat_minor": 0,
  "metadata": {
    "colab": {
      "provenance": [],
      "authorship_tag": "ABX9TyN9s3JeF/eC+ZRWiJtYQSDj",
      "include_colab_link": true
    },
    "kernelspec": {
      "name": "python3",
      "display_name": "Python 3"
    },
    "language_info": {
      "name": "python"
    }
  },
  "cells": [
    {
      "cell_type": "markdown",
      "metadata": {
        "id": "view-in-github",
        "colab_type": "text"
      },
      "source": [
        "<a href=\"https://colab.research.google.com/github/Yeunseok97/Coding_test/blob/main/codility_leader.ipynb\" target=\"_parent\"><img src=\"https://colab.research.google.com/assets/colab-badge.svg\" alt=\"Open In Colab\"/></a>"
      ]
    },
    {
      "cell_type": "markdown",
      "source": [
        "\n",
        "An array A consisting of N integers is given. The dominator of array A is the value that occurs in more than half of the elements of A.\n",
        "\n",
        "For example, consider array A such that\n",
        "\n",
        " A[0] = 3    A[1] = 4    A[2] =  3\n",
        " A[3] = 2    A[4] = 3    A[5] = -1\n",
        " A[6] = 3    A[7] = 3\n",
        "The dominator of A is 3 because it occurs in 5 out of 8 elements of A (namely in those with indices 0, 2, 4, 6 and 7) and 5 is more than a half of 8.\n",
        "\n",
        "Write a function\n",
        "\n",
        "def solution(A)\n",
        "\n",
        "that, given an array A consisting of N integers, returns index of any element of array A in which the dominator of A occurs. The function should return −1 if array A does not have a dominator.\n",
        "\n",
        "For example, given array A such that\n",
        "\n",
        " A[0] = 3    A[1] = 4    A[2] =  3\n",
        " A[3] = 2    A[4] = 3    A[5] = -1\n",
        " A[6] = 3    A[7] = 3\n",
        "the function may return 0, 2, 4, 6 or 7, as explained above.\n",
        "\n",
        "Write an efficient algorithm for the following assumptions:\n",
        "\n",
        "N is an integer within the range [0..100,000];\n",
        "each element of array A is an integer within the range [−2,147,483,648..2,147,483,647]."
      ],
      "metadata": {
        "id": "KK99dOAjU-AN"
      }
    },
    {
      "cell_type": "code",
      "source": [
        "def solution(A):\n",
        "    candidate = None\n",
        "    count = 0\n",
        "\n",
        "    for i in A:\n",
        "        if count == 0:\n",
        "            candidate = i\n",
        "            count += 1\n",
        "        elif candidate == i:\n",
        "            count += 1\n",
        "        else:\n",
        "            count -= 1\n",
        "\n",
        "    count_candidate = A.count(candidate)\n",
        "    if count_candidate > len(A) // 2:\n",
        "        return A.index(candidate)\n",
        "    else:\n",
        "        return -1\n",
        "# 처음 인덱스 기준으로 시작하여 candidate 변수를 증감소 시킴\n",
        "# count가 중간에 0이되면 변수를 바꾼다\n",
        "# 다 돌고 나온 변수가 전체 배열의 과반인경우 인덱스 반환하고\n",
        "# 아니라면 과반이 아니므로 -1를 반환한다."
      ],
      "metadata": {
        "id": "ScnwMZg7PqO1"
      },
      "execution_count": 4,
      "outputs": []
    },
    {
      "cell_type": "code",
      "source": [],
      "metadata": {
        "id": "XqRxZMogW8E6"
      },
      "execution_count": 4,
      "outputs": []
    },
    {
      "cell_type": "code",
      "source": [
        "def solution(A):\n",
        "    # Phase 1: Find the leader (if it exists)\n",
        "    stack_size = 0\n",
        "    candidate = None\n",
        "\n",
        "    for elem in A:\n",
        "        if stack_size == 0:\n",
        "            candidate = elem\n",
        "            stack_size += 1\n",
        "        else:\n",
        "            if candidate == elem:\n",
        "                stack_size += 1\n",
        "            else:\n",
        "                stack_size -= 1\n",
        "\n",
        "    if stack_size == 0:\n",
        "        return 0\n",
        "\n",
        "    leader_count = A.count(candidate)\n",
        "\n",
        "    if leader_count <= len(A) // 2:\n",
        "        return 0\n",
        "\n",
        "    equi_leaders = 0\n",
        "    left_leader_count = 0\n",
        "    total_length = len(A)\n",
        "\n",
        "    # Phase 2: Count equi leaders\n",
        "    for i, elem in enumerate(A):\n",
        "        if elem == candidate:\n",
        "            left_leader_count += 1\n",
        "\n",
        "        left_array_size = i + 1\n",
        "        right_array_size = total_length - left_array_size\n",
        "\n",
        "        if left_leader_count > left_array_size // 2 and (leader_count - left_leader_count) > right_array_size // 2:\n",
        "            equi_leaders += 1\n",
        "\n",
        "    return equi_leaders\n",
        "\n",
        "\n",
        "#1번과 같은 방법으로 리더를 찾고 2페이즈에서 equi 리더를 찾는다."
      ],
      "metadata": {
        "id": "Q9ltzN18W8IR"
      },
      "execution_count": 4,
      "outputs": []
    },
    {
      "cell_type": "code",
      "source": [],
      "metadata": {
        "id": "y6Z0Win_W8LF"
      },
      "execution_count": 4,
      "outputs": []
    },
    {
      "cell_type": "code",
      "source": [],
      "metadata": {
        "id": "sQnyJF9zW8Ng"
      },
      "execution_count": 4,
      "outputs": []
    },
    {
      "cell_type": "code",
      "source": [],
      "metadata": {
        "id": "UwcN_x3TW8P6"
      },
      "execution_count": null,
      "outputs": []
    }
  ]
}