{
  "nbformat": 4,
  "nbformat_minor": 0,
  "metadata": {
    "colab": {
      "provenance": [],
      "authorship_tag": "ABX9TyOcaf2ww/+M1VVanVpmB6N8",
      "include_colab_link": true
    },
    "kernelspec": {
      "name": "python3",
      "display_name": "Python 3"
    },
    "language_info": {
      "name": "python"
    }
  },
  "cells": [
    {
      "cell_type": "markdown",
      "metadata": {
        "id": "view-in-github",
        "colab_type": "text"
      },
      "source": [
        "<a href=\"https://colab.research.google.com/github/Yeunseok97/Coding_test/blob/main/Iteration_binary_gap.ipynb\" target=\"_parent\"><img src=\"https://colab.research.google.com/assets/colab-badge.svg\" alt=\"Open In Colab\"/></a>"
      ]
    },
    {
      "cell_type": "markdown",
      "source": [
        "#homework1 _ Iteration\n",
        "\n",
        "A binary gap within a positive integer N is any maximal sequence of consecutive zeros that is surrounded by ones at both ends in the binary representation of N.\n",
        "\n",
        "For example, number 9 has binary representation 1001 and contains a binary gap of length 2. The number 529 has binary representation 1000010001 and contains two binary gaps: one of length 4 and one of length 3. The number 20 has binary representation 10100 and contains one binary gap of length 1. The number 15 has binary representation 1111 and has no binary gaps. The number 32 has binary representation 100000 and has no binary gaps.\n",
        "\n",
        "Write a function:\n",
        "\n",
        "def solution(N)\n",
        "\n",
        "that, given a positive integer N, returns the length of its longest binary gap. The function should return 0 if N doesn't contain a binary gap.\n",
        "\n",
        "For example, given N = 1041 the function should return 5, because N has binary representation 10000010001 and so its longest binary gap is of length 5. Given N = 32 the function should return 0, because N has binary representation '100000' and thus no binary gaps.\n",
        "\n",
        "Write an efficient algorithm for the following assumptions:\n",
        "\n",
        "N is an integer within the range [1..2,147,483,647]."
      ],
      "metadata": {
        "id": "UKxIlgEM0buC"
      }
    },
    {
      "cell_type": "code",
      "source": [
        "#solution mine\n",
        "def solution(N):\n",
        "    max_zeros = 0  # 최대 연속 0의 갯수를 저장할 변수\n",
        "    current_zeros = 0  # 현재 연속 0의 갯수를 저장할 변수\n",
        "\n",
        "    for i in bin(N)[2:]:\n",
        "        if i == '1':\n",
        "            max_zeros = max(max_zeros, current_zeros)\n",
        "            current_zeros = 0\n",
        "        else:\n",
        "            current_zeros += 1\n",
        "    return max_zeros"
      ],
      "metadata": {
        "id": "9exDaFG1N-wg"
      },
      "execution_count": null,
      "outputs": []
    },
    {
      "cell_type": "markdown",
      "source": [
        "숫자를 이진수로 변환했을 때\n",
        "연달아 나오는 0의 최대 갯수 구하는 자동화 과정\n",
        "\n",
        "#알고리즘\n",
        "\n",
        "\n",
        "\t현재 0의 길이값을 저장할 변수에 0값을 할당한다\n",
        "\t최대 0의 길이값을 저장할 변수에 0값을 할당한다.\n",
        "\tfor i in len(입력값)으로 돌면서\n",
        "\t\t만약 1을 만나면 현재 0개수 변수 0으로 초기화, 최대 0길이값 max(a,b)로 최신화\n",
        "\t\t만약 0을 만나면 변수값을 +=1한다\n",
        "\t리스트 내 max값을 리턴한다.\n",
        "\n",
        "\n"
      ],
      "metadata": {
        "id": "zBP5yyCd3wba"
      }
    },
    {
      "cell_type": "code",
      "source": [],
      "metadata": {
        "id": "VYlca1jPN-04"
      },
      "execution_count": null,
      "outputs": []
    },
    {
      "cell_type": "code",
      "source": [],
      "metadata": {
        "id": "nyCSO1OKN-3O"
      },
      "execution_count": null,
      "outputs": []
    },
    {
      "cell_type": "code",
      "source": [],
      "metadata": {
        "id": "Qhi_uK0bN-5Q"
      },
      "execution_count": null,
      "outputs": []
    },
    {
      "cell_type": "code",
      "source": [],
      "metadata": {
        "id": "8ShFd6gON-7y"
      },
      "execution_count": null,
      "outputs": []
    },
    {
      "cell_type": "code",
      "source": [],
      "metadata": {
        "id": "qMfsnfOjN--L"
      },
      "execution_count": null,
      "outputs": []
    },
    {
      "cell_type": "code",
      "source": [],
      "metadata": {
        "id": "jSNy4d1UN_AM"
      },
      "execution_count": null,
      "outputs": []
    },
    {
      "cell_type": "code",
      "source": [],
      "metadata": {
        "id": "FjjZng0QN_Dz"
      },
      "execution_count": null,
      "outputs": []
    },
    {
      "cell_type": "code",
      "source": [],
      "metadata": {
        "id": "ZJBCRYExN_FC"
      },
      "execution_count": null,
      "outputs": []
    },
    {
      "cell_type": "code",
      "source": [],
      "metadata": {
        "id": "fM8L-cFEN_Hc"
      },
      "execution_count": null,
      "outputs": []
    }
  ]
}