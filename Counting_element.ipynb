{
  "nbformat": 4,
  "nbformat_minor": 0,
  "metadata": {
    "colab": {
      "provenance": [],
      "authorship_tag": "ABX9TyPQ4BzoaIqtfsjiBuGTDJMQ",
      "include_colab_link": true
    },
    "kernelspec": {
      "name": "python3",
      "display_name": "Python 3"
    },
    "language_info": {
      "name": "python"
    }
  },
  "cells": [
    {
      "cell_type": "markdown",
      "metadata": {
        "id": "view-in-github",
        "colab_type": "text"
      },
      "source": [
        "<a href=\"https://colab.research.google.com/github/Yeunseok97/Coding_test/blob/main/Counting_element.ipynb\" target=\"_parent\"><img src=\"https://colab.research.google.com/assets/colab-badge.svg\" alt=\"Open In Colab\"/></a>"
      ]
    },
    {
      "cell_type": "markdown",
      "source": [
        "# homework 1\n",
        "\n",
        "A small frog wants to get to the other side of a river. The frog is initially located on one bank of the river (position 0) and wants to get to the opposite bank (position X+1). Leaves fall from a tree onto the surface of the river.\n",
        "\n",
        "You are given an array A consisting of N integers representing the falling leaves. A[K] represents the position where one leaf falls at time K, measured in seconds.\n",
        "\n",
        "The goal is to find the earliest time when the frog can jump to the other side of the river. The frog can cross only when leaves appear at every position across the river from 1 to X (that is, we want to find the earliest moment when all the positions from 1 to X are covered by leaves). You may assume that the speed of the current in the river is negligibly small, i.e. the leaves do not change their positions once they fall in the river.\n",
        "\n",
        "For example, you are given integer X = 5 and array A such that:\n",
        "\n",
        "  A[0] = 1\n",
        "  A[1] = 3\n",
        "  A[2] = 1\n",
        "  A[3] = 4\n",
        "  A[4] = 2\n",
        "  A[5] = 3\n",
        "  A[6] = 5\n",
        "  A[7] = 4\n",
        "In second 6, a leaf falls into position 5. This is the earliest time when leaves appear in every position across the river.\n",
        "\n",
        "Write a function:\n",
        "\n",
        "def solution(X, A)\n",
        "\n",
        "that, given a non-empty array A consisting of N integers and integer X, returns the earliest time when the frog can jump to the other side of the river.\n",
        "\n",
        "If the frog is never able to jump to the other side of the river, the function should return −1.\n",
        "\n",
        "For example, given X = 5 and array A such that:\n",
        "\n",
        "  A[0] = 1\n",
        "  A[1] = 3\n",
        "  A[2] = 1\n",
        "  A[3] = 4\n",
        "  A[4] = 2\n",
        "  A[5] = 3\n",
        "  A[6] = 5\n",
        "  A[7] = 4\n",
        "the function should return 6, as explained above.\n",
        "\n",
        "Write an efficient algorithm for the following assumptions:\n",
        "\n",
        "N and X are integers within the range [1..100,000];\n",
        "each element of array A is an integer within the range [1..X]."
      ],
      "metadata": {
        "id": "c6nOcf7_Bc7C"
      }
    },
    {
      "cell_type": "code",
      "source": [
        "def solution(X, A):\n",
        "    covered_positions = set()\n",
        "    for time, position in enumerate(A):\n",
        "        covered_positions.add(position)\n",
        "        if len(covered_positions) == X:\n",
        "            return time\n",
        "    return -1"
      ],
      "metadata": {
        "colab": {
          "base_uri": "https://localhost:8080/"
        },
        "id": "mUvyi5EfBftO",
        "outputId": "8582e764-ab13-4d0b-d54c-b733f7c088de"
      },
      "execution_count": null,
      "outputs": [
        {
          "output_type": "execute_result",
          "data": {
            "text/plain": [
              "([1, 3, 4, 2, 5, 8], 8)"
            ]
          },
          "metadata": {},
          "execution_count": 56
        }
      ]
    },
    {
      "cell_type": "markdown",
      "source": [
        "- 각 원소와 인덱스를 체킹할 수 있도록 enumerate 함수를 쓴다.\n",
        "- 중복체킹을 하려면 중복을 허용하지 않은 set자료형을 써서 도착한 위치를 체크한다\n",
        "- 모든 위치가 다 채워졌을 때 걸린 시간 값을 리턴해준다.\n"
      ],
      "metadata": {
        "id": "0-PxIsgWQEt9"
      }
    },
    {
      "cell_type": "code",
      "source": [
        "def solution(X,A):\n",
        "  cp = set()\n",
        "  for time, pos in enumerate(A):\n",
        "    cp.add(pos)\n",
        "    if len(cp) == X:\n",
        "      return time\n",
        "  return -1\n",
        "\n"
      ],
      "metadata": {
        "id": "ThroiO05U-Fi"
      },
      "execution_count": null,
      "outputs": []
    },
    {
      "cell_type": "markdown",
      "source": [
        "# homework 2\n",
        "\n",
        "A non-empty array A consisting of N integers is given.\n",
        "\n",
        "A permutation is a sequence containing each element from 1 to N once, and only once.\n",
        "\n",
        "For example, array A such that:\n",
        "\n",
        "    A[0] = 4\n",
        "    A[1] = 1\n",
        "    A[2] = 3\n",
        "    A[3] = 2\n",
        "is a permutation, but array A such that:\n",
        "\n",
        "    A[0] = 4\n",
        "    A[1] = 1\n",
        "    A[2] = 3\n",
        "is not a permutation, because value 2 is missing.\n",
        "\n",
        "The goal is to check whether array A is a permutation.\n",
        "\n",
        "Write a function:\n",
        "\n",
        "def solution(A)\n",
        "\n",
        "that, given an array A, returns 1 if array A is a permutation and 0 if it is not.\n",
        "\n",
        "For example, given array A such that:\n",
        "\n",
        "    A[0] = 4\n",
        "    A[1] = 1\n",
        "    A[2] = 3\n",
        "    A[3] = 2\n",
        "the function should return 1.\n",
        "\n",
        "Given array A such that:\n",
        "\n",
        "    A[0] = 4\n",
        "    A[1] = 1\n",
        "    A[2] = 3\n",
        "the function should return 0.\n",
        "\n",
        "Write an efficient algorithm for the following assumptions:\n",
        "\n",
        "N is an integer within the range [1..100,000];\n",
        "each element of array A is an integer within the range [1..1,000,000,000]."
      ],
      "metadata": {
        "id": "ZDvlR_lABdOe"
      }
    },
    {
      "cell_type": "code",
      "source": [
        "def solution(A):\n",
        "    n = len(A)\n",
        "    unique_elements = set()\n",
        "\n",
        "    for element in A:\n",
        "        if element < 1 or element > n:\n",
        "            return 0\n",
        "\n",
        "        if element in unique_elements:\n",
        "            return 0\n",
        "\n",
        "        unique_elements.add(element)\n",
        "\n",
        "    for i in range(1, n + 1):\n",
        "        if i not in unique_elements:\n",
        "            return 0\n",
        "\n",
        "    return 1"
      ],
      "metadata": {
        "id": "86WQGAzLBf13"
      },
      "execution_count": 1,
      "outputs": []
    },
    {
      "cell_type": "markdown",
      "source": [
        "- 걸러내는 방향으로 진행\n",
        "- 먼저 원소의 범위가 1~n+1까지 아닌경우를 제외한다\n",
        "- 중복된 경우를 제외하고 set함수에 넣는다\n",
        "- 1부터 n+1까지의 각각의 값이 고유한 set함수 안에 없다면 원하는 순열이 아니므로 거른다"
      ],
      "metadata": {
        "id": "s_vQ7PxudCbL"
      }
    },
    {
      "cell_type": "code",
      "source": [
        "# 변수 간소화\n",
        "def solution(A):\n",
        "  n = len(a)\n",
        "  un = set()\n",
        "  for element in A:\n",
        "    if element<1 or element>n:\n",
        "      return 0\n",
        "    if element in un:\n",
        "      return 0\n",
        "    un.add(element)\n",
        "  for i in range(1, n+1):\n",
        "    if i not in un:\n",
        "      return 0\n",
        "  return 1"
      ],
      "metadata": {
        "id": "LYandPiTcigJ"
      },
      "execution_count": null,
      "outputs": []
    },
    {
      "cell_type": "code",
      "source": [],
      "metadata": {
        "id": "wl62lyO7Bf87"
      },
      "execution_count": null,
      "outputs": []
    }
  ]
}