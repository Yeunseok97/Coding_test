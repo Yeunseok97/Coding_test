{
  "nbformat": 4,
  "nbformat_minor": 0,
  "metadata": {
    "colab": {
      "provenance": [],
      "authorship_tag": "ABX9TyOBy2Wz+zmB46gcxm8iZFUh",
      "include_colab_link": true
    },
    "kernelspec": {
      "name": "python3",
      "display_name": "Python 3"
    },
    "language_info": {
      "name": "python"
    }
  },
  "cells": [
    {
      "cell_type": "markdown",
      "metadata": {
        "id": "view-in-github",
        "colab_type": "text"
      },
      "source": [
        "<a href=\"https://colab.research.google.com/github/Yeunseok97/Coding_test/blob/main/greedy%26dynamic.ipynb\" target=\"_parent\"><img src=\"https://colab.research.google.com/assets/colab-badge.svg\" alt=\"Open In Colab\"/></a>"
      ]
    },
    {
      "cell_type": "markdown",
      "source": [
        "Located on a line are N segments, numbered from 0 to N − 1, whose positions are given in arrays A and B. For each I (0 ≤ I < N) the position of segment I is from A[I] to B[I] (inclusive). The segments are sorted by their ends, which means that B[K] ≤ B[K + 1] for K such that 0 ≤ K < N − 1.\n",
        "\n",
        "Two segments I and J, such that I ≠ J, are overlapping if they share at least one common point. In other words, A[I] ≤ A[J] ≤ B[I] or A[J] ≤ A[I] ≤ B[J].\n",
        "\n",
        "We say that the set of segments is non-overlapping if it contains no two overlapping segments. The goal is to find the size of a non-overlapping set containing the maximal number of segments.\n",
        "\n",
        "For example, consider arrays A, B such that:\n",
        "\n",
        "    A[0] = 1    B[0] = 5\n",
        "    A[1] = 3    B[1] = 6\n",
        "    A[2] = 7    B[2] = 8\n",
        "    A[3] = 9    B[3] = 9\n",
        "    A[4] = 9    B[4] = 10\n",
        "The segments are shown in the figure below.\n",
        "\n",
        "\n",
        "\n",
        "The size of a non-overlapping set containing a maximal number of segments is 3. For example, possible sets are {0, 2, 3}, {0, 2, 4}, {1, 2, 3} or {1, 2, 4}. There is no non-overlapping set with four segments.\n",
        "\n",
        "Write a function:\n",
        "\n",
        "def solution(A, B)\n",
        "\n",
        "that, given two arrays A and B consisting of N integers, returns the size of a non-overlapping set containing a maximal number of segments.\n",
        "\n",
        "For example, given arrays A, B shown above, the function should return 3, as explained above.\n",
        "\n",
        "Write an efficient algorithm for the following assumptions:\n",
        "\n",
        "N is an integer within the range [0..30,000];\n",
        "each element of arrays A and B is an integer within the range [0..1,000,000,000];\n",
        "A[I] ≤ B[I], for each I (0 ≤ I < N);\n",
        "B[K] ≤ B[K + 1], for each K (0 ≤ K < N − 1)."
      ],
      "metadata": {
        "id": "sVN-IssZVm_P"
      }
    },
    {
      "cell_type": "code",
      "source": [
        "def solution(A):\n",
        "    n = len(A)\n",
        "    max_sum = [0] * n  # 각 위치까지의 최대 합을 저장하는 배열\n",
        "\n",
        "    # 초기값 설정\n",
        "    max_sum[0] = A[0]\n",
        "    if n > 1:\n",
        "        max_sum[1] = max(A[0] + A[1], A[1])  # 이동할 수 없을 때를 고려하여 최댓값 선택\n",
        "\n",
        "    for i in range(2, n):\n",
        "        # i번째 위치까지의 최대 합은 i - 1, i - 2, ..., i - 6까지의 최대 합에 A[i]를 더한 값 중 최대값\n",
        "        max_sum[i] = max(max_sum[i - 1], max_sum[i - 2], max_sum[i - 3], max_sum[i - 4], max_sum[i - 5], max_sum[i - 6]) + A[i]\n",
        "\n",
        "    return max_sum[-1]"
      ],
      "metadata": {
        "id": "dupd84hDVnXT"
      },
      "execution_count": null,
      "outputs": []
    },
    {
      "cell_type": "markdown",
      "source": [
        "A game for one player is played on a board consisting of N consecutive squares, numbered from 0 to N − 1. There is a number written on each square. A non-empty array A of N integers contains the numbers written on the squares. Moreover, some squares can be marked during the game.\n",
        "\n",
        "At the beginning of the game, there is a pebble on square number 0 and this is the only square on the board which is marked. The goal of the game is to move the pebble to square number N − 1.\n",
        "\n",
        "During each turn we throw a six-sided die, with numbers from 1 to 6 on its faces, and consider the number K, which shows on the upper face after the die comes to rest. Then we move the pebble standing on square number I to square number I + K, providing that square number I + K exists. If square number I + K does not exist, we throw the die again until we obtain a valid move. Finally, we mark square number I + K.\n",
        "\n",
        "After the game finishes (when the pebble is standing on square number N − 1), we calculate the result. The result of the game is the sum of the numbers written on all marked squares.\n",
        "\n",
        "For example, given the following array:\n",
        "\n",
        "    A[0] = 1\n",
        "    A[1] = -2\n",
        "    A[2] = 0\n",
        "    A[3] = 9\n",
        "    A[4] = -1\n",
        "    A[5] = -2\n",
        "one possible game could be as follows:\n",
        "\n",
        "the pebble is on square number 0, which is marked;\n",
        "we throw 3; the pebble moves from square number 0 to square number 3; we mark square number 3;\n",
        "we throw 5; the pebble does not move, since there is no square number 8 on the board;\n",
        "we throw 2; the pebble moves to square number 5; we mark this square and the game ends.\n",
        "The marked squares are 0, 3 and 5, so the result of the game is 1 + 9 + (−2) = 8. This is the maximal possible result that can be achieved on this board.\n",
        "\n",
        "Write a function:\n",
        "\n",
        "def solution(A)\n",
        "\n",
        "that, given a non-empty array A of N integers, returns the maximal result that can be achieved on the board represented by array A.\n",
        "\n",
        "For example, given the array\n",
        "\n",
        "    A[0] = 1\n",
        "    A[1] = -2\n",
        "    A[2] = 0\n",
        "    A[3] = 9\n",
        "    A[4] = -1\n",
        "    A[5] = -2\n",
        "the function should return 8, as explained above.\n",
        "\n",
        "Write an efficient algorithm for the following assumptions:\n",
        "\n",
        "N is an integer within the range [2..100,000];\n",
        "each element of array A is an integer within the range [−10,000..10,000]."
      ],
      "metadata": {
        "id": "YlSH6k8wVnCE"
      }
    },
    {
      "cell_type": "code",
      "source": [
        "def solution(A):\n",
        "    n = len(A)\n",
        "    max_scores = [float('-inf')] * n  # 각 사각형까지의 최대 점수를 저장하는 배열\n",
        "\n",
        "    max_scores[0] = A[0]  # 첫 번째 사각형의 점수는 그대로\n",
        "\n",
        "    for i in range(1, n):\n",
        "        # 현재 사각형으로 갈 수 있는 경우의 최대 점수 계산\n",
        "        for j in range(1, min(i, 6) + 1):\n",
        "            max_scores[i] = max(max_scores[i], max_scores[i - j] + A[i])\n",
        "\n",
        "    return max_scores[-1]"
      ],
      "metadata": {
        "id": "B5cpAkm4Vnfe"
      },
      "execution_count": null,
      "outputs": []
    }
  ]
}