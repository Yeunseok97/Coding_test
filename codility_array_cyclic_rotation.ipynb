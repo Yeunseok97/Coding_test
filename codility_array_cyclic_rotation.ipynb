{
  "nbformat": 4,
  "nbformat_minor": 0,
  "metadata": {
    "colab": {
      "provenance": [],
      "authorship_tag": "ABX9TyOq5fydwrQOd930hpT3xOip",
      "include_colab_link": true
    },
    "kernelspec": {
      "name": "python3",
      "display_name": "Python 3"
    },
    "language_info": {
      "name": "python"
    }
  },
  "cells": [
    {
      "cell_type": "markdown",
      "metadata": {
        "id": "view-in-github",
        "colab_type": "text"
      },
      "source": [
        "<a href=\"https://colab.research.google.com/github/Yeunseok97/Coding_test/blob/main/codility_array_cyclic_rotation.ipynb\" target=\"_parent\"><img src=\"https://colab.research.google.com/assets/colab-badge.svg\" alt=\"Open In Colab\"/></a>"
      ]
    },
    {
      "cell_type": "markdown",
      "source": [
        "# cyclic rotation\n",
        "- K만큼 음수는 좌측 양수는 우측으로 이동\n",
        "- 파이썬 음수 나머지 연산은 음수에 나누려는 수를 계속 더해서 나머지가 양수가 되었을 때 기존에 나누려던 양수로 나눈 나머지로 계산한다.\n",
        "- len값이 10일 때 왼쪽으로 2번 움직이는거는 오른쪽으로 8번 움직이는 결과와 같다. 그래서 절대값 처리가 되는 나머지연산을 계산에 넣어줘야한다."
      ],
      "metadata": {
        "id": "OshGNCfgpHqR"
      }
    },
    {
      "cell_type": "code",
      "source": [
        "#이거는 리스트를 변형해야해서 복잡도가 증가함\n",
        "\n",
        "def solution(A,K):\n",
        "  rotated_array = A[:]\n",
        "  for i in range(K):\n",
        "    new_idx = (i+K)%len(A)\n",
        "    rotated_array[new_idx] = A[i]\n",
        "\n",
        "  return rotated_array"
      ],
      "metadata": {
        "id": "VkcZD3PHpPxD"
      },
      "execution_count": null,
      "outputs": []
    },
    {
      "cell_type": "code",
      "source": [
        "# 이거는 음수처리가 안돼서 안됨.\n",
        "def solution(A,K):\n",
        "  if len(A) == 0:\n",
        "    return A\n",
        "  else:\n",
        "    return A[-K:] + A[:-K]"
      ],
      "metadata": {
        "id": "UWjZ2Qgx_bOH"
      },
      "execution_count": null,
      "outputs": []
    },
    {
      "cell_type": "code",
      "source": [
        "#나머지는 절대값처리가 되므로  최종 솔루션임\n",
        "def solution(A, K):\n",
        "  if len(A) == 0:\n",
        "    return A\n",
        "  return A[ -(K%len(A)): ] + A[: -(K%len(A)) ]\n",
        "\n",
        "solution([1,2,3,4,5],-2)\n",
        "\n",
        "# 파이썬은 음수 나머지는 음수에 양수를 계속 더해서 처음으로 양수가 나왔을 때\n",
        "# 양수를 기존 나누려던 양수로 나눠서 나온 나머지로 반환한다."
      ],
      "metadata": {
        "id": "5ikZ2_o9_bPf",
        "colab": {
          "base_uri": "https://localhost:8080/"
        },
        "outputId": "b7adf668-2d69-4c91-8ea4-c8cbe47a04ce"
      },
      "execution_count": 18,
      "outputs": [
        {
          "output_type": "execute_result",
          "data": {
            "text/plain": [
              "[3, 4, 5, 1, 2]"
            ]
          },
          "metadata": {},
          "execution_count": 18
        }
      ]
    },
    {
      "cell_type": "code",
      "source": [
        "# return A[-(K%len(A)):] + A[:-(K%len(A))]"
      ],
      "metadata": {
        "colab": {
          "base_uri": "https://localhost:8080/"
        },
        "id": "bNm4vi8mq27I",
        "outputId": "6ae55348-e6f8-4f0b-bb2c-170c2288773c"
      },
      "execution_count": 19,
      "outputs": [
        {
          "output_type": "execute_result",
          "data": {
            "text/plain": [
              "3"
            ]
          },
          "metadata": {},
          "execution_count": 19
        }
      ]
    }
  ]
}