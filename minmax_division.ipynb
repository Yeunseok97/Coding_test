{
  "nbformat": 4,
  "nbformat_minor": 0,
  "metadata": {
    "colab": {
      "provenance": [],
      "authorship_tag": "ABX9TyPAIOfudHSWsNiinj0LM7sx",
      "include_colab_link": true
    },
    "kernelspec": {
      "name": "python3",
      "display_name": "Python 3"
    },
    "language_info": {
      "name": "python"
    }
  },
  "cells": [
    {
      "cell_type": "markdown",
      "metadata": {
        "id": "view-in-github",
        "colab_type": "text"
      },
      "source": [
        "<a href=\"https://colab.research.google.com/github/Yeunseok97/Coding_test/blob/main/minmax_division.ipynb\" target=\"_parent\"><img src=\"https://colab.research.google.com/assets/colab-badge.svg\" alt=\"Open In Colab\"/></a>"
      ]
    },
    {
      "cell_type": "markdown",
      "source": [
        "You are given integers K, M and a non-empty array A consisting of N integers. Every element of the array is not greater than M.\n",
        "\n",
        "You should divide this array into K blocks of consecutive elements. The size of the block is any integer between 0 and N. Every element of the array should belong to some block.\n",
        "\n",
        "The sum of the block from X to Y equals A[X] + A[X + 1] + ... + A[Y]. The sum of empty block equals 0.\n",
        "\n",
        "The large sum is the maximal sum of any block.\n",
        "\n",
        "For example, you are given integers K = 3, M = 5 and array A such that:\n",
        "\n",
        "  A[0] = 2\n",
        "  A[1] = 1\n",
        "  A[2] = 5\n",
        "  A[3] = 1\n",
        "  A[4] = 2\n",
        "  A[5] = 2\n",
        "  A[6] = 2\n",
        "The array can be divided, for example, into the following blocks:\n",
        "\n",
        "[2, 1, 5, 1, 2, 2, 2], [], [] with a large sum of 15;\n",
        "[2], [1, 5, 1, 2], [2, 2] with a large sum of 9;\n",
        "[2, 1, 5], [], [1, 2, 2, 2] with a large sum of 8;\n",
        "[2, 1], [5, 1], [2, 2, 2] with a large sum of 6.\n",
        "The goal is to minimize the large sum. In the above example, 6 is the minimal large sum.\n",
        "\n",
        "Write a function:\n",
        "\n",
        "def solution(K, M, A)\n",
        "\n",
        "that, given integers K, M and a non-empty array A consisting of N integers, returns the minimal large sum.\n",
        "\n",
        "For example, given K = 3, M = 5 and array A such that:\n",
        "\n",
        "  A[0] = 2\n",
        "  A[1] = 1\n",
        "  A[2] = 5\n",
        "  A[3] = 1\n",
        "  A[4] = 2\n",
        "  A[5] = 2\n",
        "  A[6] = 2\n",
        "the function should return 6, as explained above.\n",
        "\n",
        "Write an efficient algorithm for the following assumptions:\n",
        "\n",
        "N and K are integers within the range [1..100,000];\n",
        "M is an integer within the range [0..10,000];\n",
        "each element of array A is an integer within the range [0..M]."
      ],
      "metadata": {
        "id": "KJT7F6oTWzL3"
      }
    },
    {
      "cell_type": "code",
      "source": [
        "def count_blocks(A, max_sum):\n",
        "    total_sum = 0\n",
        "    blocks = 1\n",
        "\n",
        "    for num in A:\n",
        "        total_sum += num\n",
        "        if total_sum > max_sum:\n",
        "            total_sum = num\n",
        "            blocks += 1\n",
        "\n",
        "    return blocks\n",
        "\n",
        "def solution(K, M, A):\n",
        "    start = max(A)  # 시작 범위는 배열 A의 최댓값 이상\n",
        "    end = sum(A)  # 끝 범위는 배열 A의 합 이하\n",
        "\n",
        "    while start <= end:\n",
        "        mid = (start + end) // 2\n",
        "        blocks = count_blocks(A, mid)\n",
        "\n",
        "        if blocks <= K:\n",
        "            end = mid - 1\n",
        "        else:\n",
        "            start = mid + 1\n",
        "\n",
        "    return start"
      ],
      "metadata": {
        "id": "u0WwbeOyW0CD"
      },
      "execution_count": null,
      "outputs": []
    },
    {
      "cell_type": "markdown",
      "source": [
        "A non-empty array A consisting of N numbers is given. The array is sorted in non-decreasing order. The absolute distinct count of this array is the number of distinct absolute values among the elements of the array.\n",
        "\n",
        "For example, consider array A such that:\n",
        "\n",
        "  A[0] = -5\n",
        "  A[1] = -3\n",
        "  A[2] = -1\n",
        "  A[3] =  0\n",
        "  A[4] =  3\n",
        "  A[5] =  6\n",
        "The absolute distinct count of this array is 5, because there are 5 distinct absolute values among the elements of this array, namely 0, 1, 3, 5 and 6.\n",
        "\n",
        "Write a function:\n",
        "\n",
        "def solution(A)\n",
        "\n",
        "that, given a non-empty array A consisting of N numbers, returns absolute distinct count of array A.\n",
        "\n",
        "For example, given array A such that:\n",
        "\n",
        "  A[0] = -5\n",
        "  A[1] = -3\n",
        "  A[2] = -1\n",
        "  A[3] =  0\n",
        "  A[4] =  3\n",
        "  A[5] =  6\n",
        "the function should return 5, as explained above.\n",
        "\n",
        "Write an efficient algorithm for the following assumptions:\n",
        "\n",
        "N is an integer within the range [1..100,000];\n",
        "each element of array A is an integer within the range [−2,147,483,648..2,147,483,647];\n",
        "array A is sorted in non-decreasing order."
      ],
      "metadata": {
        "id": "3DieyUvDWzOt"
      }
    },
    {
      "cell_type": "code",
      "source": [
        "def solution(A):\n",
        "    distinct_abs_values = set()  # 중복되지 않는 절대값을 저장하기 위한 집합\n",
        "\n",
        "    # 배열을 순회하면서 각 요소의 절대값을 구하고 집합에 추가\n",
        "    for num in A:\n",
        "        distinct_abs_values.add(abs(num))\n",
        "\n",
        "    return len(distinct_abs_values)"
      ],
      "metadata": {
        "id": "lPfq5-3RW0Ii"
      },
      "execution_count": null,
      "outputs": []
    },
    {
      "cell_type": "markdown",
      "source": [
        "An integer M and a non-empty array A consisting of N non-negative integers are given. All integers in array A are less than or equal to M.\n",
        "\n",
        "A pair of integers (P, Q), such that 0 ≤ P ≤ Q < N, is called a slice of array A. The slice consists of the elements A[P], A[P + 1], ..., A[Q]. A distinct slice is a slice consisting of only unique numbers. That is, no individual number occurs more than once in the slice.\n",
        "\n",
        "For example, consider integer M = 6 and array A such that:\n",
        "\n",
        "    A[0] = 3\n",
        "    A[1] = 4\n",
        "    A[2] = 5\n",
        "    A[3] = 5\n",
        "    A[4] = 2\n",
        "There are exactly nine distinct slices: (0, 0), (0, 1), (0, 2), (1, 1), (1, 2), (2, 2), (3, 3), (3, 4) and (4, 4).\n",
        "\n",
        "The goal is to calculate the number of distinct slices.\n",
        "\n",
        "Write a function:\n",
        "\n",
        "def solution(M, A)\n",
        "\n",
        "that, given an integer M and a non-empty array A consisting of N integers, returns the number of distinct slices.\n",
        "\n",
        "If the number of distinct slices is greater than 1,000,000,000, the function should return 1,000,000,000.\n",
        "\n",
        "For example, given integer M = 6 and array A such that:\n",
        "\n",
        "    A[0] = 3\n",
        "    A[1] = 4\n",
        "    A[2] = 5\n",
        "    A[3] = 5\n",
        "    A[4] = 2\n",
        "the function should return 9, as explained above.\n",
        "\n",
        "Write an efficient algorithm for the following assumptions:\n",
        "\n",
        "N is an integer within the range [1..100,000];\n",
        "M is an integer within the range [0..100,000];\n",
        "each element of array A is an integer within the range [0..M]."
      ],
      "metadata": {
        "id": "bp_69j5zWzXy"
      }
    },
    {
      "cell_type": "code",
      "source": [
        "def solution(M, A):\n",
        "    if len(A) == 0:\n",
        "        return 0\n",
        "\n",
        "    distinct_slices = 0  # 중복되지 않는 부분집합의 수\n",
        "    last_occurrence = [-1] * (M + 1)  # 배열 A의 각 요소의 마지막 등장 위치를 저장\n",
        "\n",
        "    # 초기값 설정\n",
        "    j = 0\n",
        "\n",
        "    for i in range(len(A)):\n",
        "        # 이전에 등장한 위치를 갱신\n",
        "        if last_occurrence[A[i]] >= j:\n",
        "            j = last_occurrence[A[i]] + 1\n",
        "\n",
        "        # 현재 부분집합의 크기만큼을 중복하지 않게 더함\n",
        "        distinct_slices += (i - j + 1)\n",
        "\n",
        "        # 현재 요소의 마지막 등장 위치 갱신\n",
        "        last_occurrence[A[i]] = i\n",
        "\n",
        "        # 결과가 1,000,000,000을 초과하면 1,000,000,000으로 리턴\n",
        "        if distinct_slices > 1000000000:\n",
        "            return 1000000000\n",
        "\n",
        "    return distinct_slices"
      ],
      "metadata": {
        "id": "83EstUYTW0Pb"
      },
      "execution_count": null,
      "outputs": []
    }
  ]
}