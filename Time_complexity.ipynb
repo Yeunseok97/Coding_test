{
  "nbformat": 4,
  "nbformat_minor": 0,
  "metadata": {
    "colab": {
      "provenance": [],
      "authorship_tag": "ABX9TyPJgjCrGpWPs5I9isNRjz0b",
      "include_colab_link": true
    },
    "kernelspec": {
      "name": "python3",
      "display_name": "Python 3"
    },
    "language_info": {
      "name": "python"
    }
  },
  "cells": [
    {
      "cell_type": "markdown",
      "metadata": {
        "id": "view-in-github",
        "colab_type": "text"
      },
      "source": [
        "<a href=\"https://colab.research.google.com/github/Yeunseok97/Coding_test/blob/main/Time_complexity.ipynb\" target=\"_parent\"><img src=\"https://colab.research.google.com/assets/colab-badge.svg\" alt=\"Open In Colab\"/></a>"
      ]
    },
    {
      "cell_type": "markdown",
      "source": [
        "\n",
        "#homework 1\n",
        "\n",
        "A small frog wants to get to the other side of the road. The frog is currently located at position X and wants to get to a position greater than or equal to Y. The small frog always jumps a fixed distance, D.\n",
        "\n",
        "Count the minimal number of jumps that the small frog must perform to reach its target.\n",
        "\n",
        "Write a function:\n",
        "\n",
        "    def solution(X, Y, D)\n",
        "\n",
        "that, given three integers X, Y and D, returns the minimal number of jumps from position X to a position equal to or greater than Y.\n",
        "\n",
        "For example, given:\n",
        "  X = 10\n",
        "  Y = 85\n",
        "  D = 30\n",
        "\n",
        "the function should return 3, because the frog will be positioned as follows:\n",
        "\n",
        "        after the first jump, at position 10 + 30 = 40\n",
        "        after the second jump, at position 10 + 30 + 30 = 70\n",
        "        after the third jump, at position 10 + 30 + 30 + 30 = 100\n",
        "\n",
        "Write an efficient algorithm for the following assumptions:\n",
        "\n",
        "        X, Y and D are integers within the range [1..1,000,000,000];\n",
        "        X ≤ Y.\n",
        "\n"
      ],
      "metadata": {
        "id": "lpLtrT78jT_I"
      }
    },
    {
      "cell_type": "code",
      "source": [
        "#solution1\n",
        "\n",
        "def solution(X, Y, D):\n",
        "    need_distance = Y - X\n",
        "    if need_distance == 0:\n",
        "        total_jump = 0\n",
        "        return total_jump\n",
        "\n",
        "    total_jump = need_distance // D\n",
        "\n",
        "    if need_distance % D > 0:\n",
        "        return total_jump + 1\n",
        "    else:\n",
        "        return total_jump"
      ],
      "metadata": {
        "id": "jpEDZXp4jV8o"
      },
      "execution_count": null,
      "outputs": []
    },
    {
      "cell_type": "code",
      "source": [
        "# solution2\n",
        "# math.ceil함수를 이용하여 몫 올림 처리를 할 수 있다.\n",
        "import math\n",
        "\n",
        "def solution(X,Y,D):\n",
        "  return math.ceil((Y-X)//D)"
      ],
      "metadata": {
        "id": "Y1ppiPEc0Sws"
      },
      "execution_count": null,
      "outputs": []
    },
    {
      "cell_type": "markdown",
      "source": [
        "#homework 2\n",
        "\n",
        "\n",
        "An array A consisting of N different integers is given. The array contains integers in the range [1..(N + 1)], which means that exactly one element is missing.\n",
        "\n",
        "Your goal is to find that missing element.\n",
        "\n",
        "Write a function:\n",
        "\n",
        "    def solution(A)\n",
        "\n",
        "that, given an array A, returns the value of the missing element.\n",
        "\n",
        "For example, given array A such that:\n",
        "  A[0] = 2\n",
        "  A[1] = 3\n",
        "  A[2] = 1\n",
        "  A[3] = 5\n",
        "\n",
        "the function should return 4, as it is the missing element.\n",
        "\n",
        "Write an efficient algorithm for the following assumptions:\n",
        "\n",
        "        N is an integer within the range [0..100,000];\n",
        "        the elements of A are all distinct;\n",
        "        each element of array A is an integer within the range [1..(N + 1)].\n",
        "\n"
      ],
      "metadata": {
        "id": "egQZWZAeiYPt"
      }
    },
    {
      "cell_type": "code",
      "source": [
        "\n",
        "#solution 2\n",
        "def sum_of_arithmetic_sequence(nums):\n",
        "    n = len(nums)\n",
        "    expected_sum = (n + 1) * (n + 2) // 2\n",
        "    actual_sum = sum(nums)\n",
        "    missing_element = expected_sum - actual_sum\n",
        "    return missing_element"
      ],
      "metadata": {
        "id": "ymuY-X-ziHo1"
      },
      "execution_count": null,
      "outputs": []
    },
    {
      "cell_type": "code",
      "source": [
        "# 코드 간소화\n",
        "# 등차수열 합공식을 사용하여 현재 총합을 제외시켜주면 된다. 인덱스가 0부터 진행돼서 1개씩 올려준다.??\n",
        "def solution(A):\n",
        "  N = len(A)\n",
        "  return ((N+1)*(N+2))/2 - sum(A)"
      ],
      "metadata": {
        "id": "ZrWeuERH0szt"
      },
      "execution_count": null,
      "outputs": []
    },
    {
      "cell_type": "markdown",
      "source": [
        "#homework 3\n",
        "\n",
        "'''\n",
        "A non-empty array A consisting of N integers is given. Array A represents numbers on a tape.\n",
        "\n",
        "Any integer P, such that 0 < P < N, splits this tape into two non-empty parts: A[0], A[1], ..., A[P − 1] and A[P], A[P + 1], ..., A[N − 1].\n",
        "\n",
        "The difference between the two parts is the value of: |(A[0] + A[1] + ... + A[P − 1]) − (A[P] + A[P + 1] + ... + A[N − 1])|\n",
        "\n",
        "In other words, it is the absolute difference between the sum of the first part and the sum of the second part.\n",
        "\n",
        "For example, consider array A such that:\n",
        "  A[0] = 3\n",
        "  A[1] = 1\n",
        "  A[2] = 2\n",
        "  A[3] = 4\n",
        "  A[4] = 3\n",
        "\n",
        "We can split this tape in four places:\n",
        "\n",
        "        P = 1, difference = |3 − 10| = 7\n",
        "        P = 2, difference = |4 − 9| = 5\n",
        "        P = 3, difference = |6 − 7| = 1\n",
        "        P = 4, difference = |10 − 3| = 7\n",
        "\n",
        "Write a function:\n",
        "\n",
        "    def solution(A)\n",
        "\n",
        "that, given a non-empty array A of N integers, returns the minimal difference that can be achieved.\n",
        "\n",
        "For example, given:\n",
        "  A[0] = 3\n",
        "  A[1] = 1\n",
        "  A[2] = 2\n",
        "  A[3] = 4\n",
        "  A[4] = 3\n",
        "\n",
        "the function should return 1, as explained above.\n",
        "\n",
        "Write an efficient algorithm for the following assumptions:\n",
        "\n",
        "        N is an integer within the range [2..100,000];\n",
        "        each element of array A is an integer within the range [−1,000..1,000].\n",
        "\n",
        "'''"
      ],
      "metadata": {
        "id": "6C3jKg4ZiZGJ"
      }
    },
    {
      "cell_type": "code",
      "source": [
        "#solution 3\n",
        "def solution(A):\n",
        "    total_sum = sum(A)\n",
        "    left_sum = 0\n",
        "    min_difference = float('inf')\n",
        "\n",
        "    for i in range(len(A) - 1):\n",
        "        left_sum += A[i]\n",
        "        right_sum = total_sum - left_sum\n",
        "        difference = abs(left_sum - right_sum)\n",
        "\n",
        "        if difference < min_difference:\n",
        "            min_difference = difference\n",
        "\n",
        "    return min_difference\n"
      ],
      "metadata": {
        "id": "SM7_5At8iHwk"
      },
      "execution_count": null,
      "outputs": []
    },
    {
      "cell_type": "markdown",
      "source": [
        "#알고리즘\n",
        "\n",
        "-  for문은 range 범위끝나는 기준으로 오른쪽 누적합을 구할 수 있어서 len(A)-1로 설정한다\n",
        "-  min_difference는 어떠한 상황에도 작동할 수 있도록 초기값을 무한으로 설정한다.\n",
        "\n",
        "- 왼쪽은 누적합, 오른쪽은 전체합에서 왼쪽 빼면 누적합\n",
        "- difference는 절대값 씌운 좌,우 차값\n",
        "- for문이 돌 때마다 최소값 갱신"
      ],
      "metadata": {
        "id": "5lQviuGAiZZK"
      }
    },
    {
      "cell_type": "code",
      "source": [
        "def solution(A):\n",
        "    total_sum = sum(A)\n",
        "    left_sum = 0\n",
        "    min_diff = float('inf')\n",
        "\n",
        "    for i in range(len(A) - 1):\n",
        "        left_sum += A[i]\n",
        "        right_sum = total_sum - left_sum\n",
        "        diff = abs(left_sum - right_sum)\n",
        "\n",
        "        if diff < min_diff:\n",
        "            min_diff = diff\n",
        "\n",
        "    return min_diff"
      ],
      "metadata": {
        "id": "Wxp2sCQoiH1r"
      },
      "execution_count": null,
      "outputs": []
    },
    {
      "cell_type": "code",
      "source": [],
      "metadata": {
        "id": "UgN4zani6yRP"
      },
      "execution_count": null,
      "outputs": []
    }
  ]
}