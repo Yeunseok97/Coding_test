{
  "nbformat": 4,
  "nbformat_minor": 0,
  "metadata": {
    "colab": {
      "provenance": [],
      "authorship_tag": "ABX9TyPxR3HO3TEMEJWWWhSElA0/",
      "include_colab_link": true
    },
    "kernelspec": {
      "name": "python3",
      "display_name": "Python 3"
    },
    "language_info": {
      "name": "python"
    }
  },
  "cells": [
    {
      "cell_type": "markdown",
      "metadata": {
        "id": "view-in-github",
        "colab_type": "text"
      },
      "source": [
        "<a href=\"https://colab.research.google.com/github/Yeunseok97/Coding_test/blob/main/maximum_slice.ipynb\" target=\"_parent\"><img src=\"https://colab.research.google.com/assets/colab-badge.svg\" alt=\"Open In Colab\"/></a>"
      ]
    },
    {
      "cell_type": "markdown",
      "source": [
        "An array A consisting of N integers is given. It contains daily prices of a stock share for a period of N consecutive days. If a single share was bought on day P and sold on day Q, where 0 ≤ P ≤ Q < N, then the profit of such transaction is equal to A[Q] − A[P], provided that A[Q] ≥ A[P]. Otherwise, the transaction brings loss of A[P] − A[Q].\n",
        "\n",
        "For example, consider the following array A consisting of six elements such that:\n",
        "\n",
        "  A[0] = 23171\n",
        "  A[1] = 21011\n",
        "  A[2] = 21123\n",
        "  A[3] = 21366\n",
        "  A[4] = 21013\n",
        "  A[5] = 21367\n",
        "If a share was bought on day 0 and sold on day 2, a loss of 2048 would occur because A[2] − A[0] = 21123 − 23171 = −2048. If a share was bought on day 4 and sold on day 5, a profit of 354 would occur because A[5] − A[4] = 21367 − 21013 = 354. Maximum possible profit was 356. It would occur if a share was bought on day 1 and sold on day 5.\n",
        "\n",
        "Write a function,\n",
        "\n",
        "def solution(A)\n",
        "\n",
        "that, given an array A consisting of N integers containing daily prices of a stock share for a period of N consecutive days, returns the maximum possible profit from one transaction during this period. The function should return 0 if it was impossible to gain any profit.\n",
        "\n",
        "For example, given array A consisting of six elements such that:\n",
        "\n",
        "  A[0] = 23171\n",
        "  A[1] = 21011\n",
        "  A[2] = 21123\n",
        "  A[3] = 21366\n",
        "  A[4] = 21013\n",
        "  A[5] = 21367\n",
        "the function should return 356, as explained above.\n",
        "\n",
        "Write an efficient algorithm for the following assumptions:\n",
        "\n",
        "N is an integer within the range [0..400,000];\n",
        "each element of array A is an integer within the range [0..200,000]."
      ],
      "metadata": {
        "id": "yZxFWrLgafLB"
      }
    },
    {
      "cell_type": "code",
      "source": [
        "def solution(A):\n",
        "    if not A or len(A) < 2:\n",
        "        return 0\n",
        "\n",
        "    min_price = A[0]\n",
        "    max_profit = 0\n",
        "\n",
        "    for i in range(1, len(A)):\n",
        "        max_profit = max(max_profit, A[i] - min_price)\n",
        "        min_price = min(min_price, A[i])\n",
        "\n",
        "    return max_profit\n",
        "\n",
        "\n",
        "# 주식 최대 최소 찾는거임.\n",
        "# 0,1 개수 찾는거와 같은 방법"
      ],
      "metadata": {
        "id": "wm9vGqTdadzh"
      },
      "execution_count": null,
      "outputs": []
    },
    {
      "cell_type": "markdown",
      "source": [
        "A non-empty array A consisting of N integers is given. A pair of integers (P, Q), such that 0 ≤ P ≤ Q < N, is called a slice of array A. The sum of a slice (P, Q) is the total of A[P] + A[P+1] + ... + A[Q].\n",
        "\n",
        "Write a function:\n",
        "\n",
        "def solution(A)\n",
        "\n",
        "that, given an array A consisting of N integers, returns the maximum sum of any slice of A.\n",
        "\n",
        "For example, given array A such that:\n",
        "\n",
        "A[0] = 3  A[1] = 2  A[2] = -6\n",
        "A[3] = 4  A[4] = 0\n",
        "the function should return 5 because:\n",
        "\n",
        "(3, 4) is a slice of A that has sum 4,\n",
        "(2, 2) is a slice of A that has sum −6,\n",
        "(0, 1) is a slice of A that has sum 5,\n",
        "no other slice of A has sum greater than (0, 1).\n",
        "Write an efficient algorithm for the following assumptions:\n",
        "\n",
        "N is an integer within the range [1..1,000,000];\n",
        "each element of array A is an integer within the range [−1,000,000..1,000,000];\n",
        "the result will be an integer within the range [−2,147,483,648..2,147,483,647]."
      ],
      "metadata": {
        "id": "S4rwVzi9a2J2"
      }
    },
    {
      "cell_type": "code",
      "source": [
        "def solution(A):\n",
        "    max_ending = max_slice = A[0]\n",
        "\n",
        "    for i in range(1, len(A)):\n",
        "        max_ending = max(A[i], max_ending + A[i])\n",
        "        max_slice = max(max_slice, max_ending)\n",
        "\n",
        "    return max_slice\n",
        "\n"
      ],
      "metadata": {
        "id": "IMsbV1JYa1gS"
      },
      "execution_count": null,
      "outputs": []
    },
    {
      "cell_type": "code",
      "source": [],
      "metadata": {
        "id": "Z8dnhieua1i6"
      },
      "execution_count": null,
      "outputs": []
    },
    {
      "cell_type": "code",
      "source": [],
      "metadata": {
        "id": "O9WbMY8oa1lp"
      },
      "execution_count": null,
      "outputs": []
    }
  ]
}