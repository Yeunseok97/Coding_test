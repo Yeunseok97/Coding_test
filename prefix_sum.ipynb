{
  "nbformat": 4,
  "nbformat_minor": 0,
  "metadata": {
    "colab": {
      "provenance": [],
      "authorship_tag": "ABX9TyOjHFx12xi/ZCeKQ0Jkd5dg",
      "include_colab_link": true
    },
    "kernelspec": {
      "name": "python3",
      "display_name": "Python 3"
    },
    "language_info": {
      "name": "python"
    }
  },
  "cells": [
    {
      "cell_type": "markdown",
      "metadata": {
        "id": "view-in-github",
        "colab_type": "text"
      },
      "source": [
        "<a href=\"https://colab.research.google.com/github/Yeunseok97/Coding_test/blob/main/prefix_sum.ipynb\" target=\"_parent\"><img src=\"https://colab.research.google.com/assets/colab-badge.svg\" alt=\"Open In Colab\"/></a>"
      ]
    },
    {
      "cell_type": "markdown",
      "source": [
        "#homework 1\n",
        "A non-empty array A consisting of N integers is given. The consecutive elements of array A represent consecutive cars on a road.\n",
        "\n",
        "Array A contains only 0s and/or 1s:\n",
        "\n",
        "0 represents a car traveling east,\n",
        "1 represents a car traveling west.\n",
        "The goal is to count passing cars. We say that a pair of cars (P, Q), where 0 ≤ P < Q < N, is passing when P is traveling to the east and Q is traveling to the west.\n",
        "\n",
        "For example, consider array A such that:\n",
        "\n",
        "  A[0] = 0\n",
        "  A[1] = 1\n",
        "  A[2] = 0\n",
        "  A[3] = 1\n",
        "  A[4] = 1\n",
        "We have five pairs of passing cars: (0, 1), (0, 3), (0, 4), (2, 3), (2, 4).\n",
        "\n",
        "Write a function:\n",
        "\n",
        "def solution(A)\n",
        "\n",
        "that, given a non-empty array A of N integers, returns the number of pairs of passing cars.\n",
        "\n",
        "The function should return −1 if the number of pairs of passing cars exceeds 1,000,000,000.\n",
        "\n",
        "For example, given:\n",
        "\n",
        "  A[0] = 0\n",
        "  A[1] = 1\n",
        "  A[2] = 0\n",
        "  A[3] = 1\n",
        "  A[4] = 1\n",
        "the function should return 5, as explained above.\n",
        "\n",
        "Write an efficient algorithm for the following assumptions:\n",
        "\n",
        "N is an integer within the range [1..100,000];\n",
        "each element of array A is an integer that can have one of the following values: 0, 1."
      ],
      "metadata": {
        "id": "AVOtqNRWCjss"
      }
    },
    {
      "cell_type": "code",
      "source": [
        "def solution(A):\n",
        "    count_zeros = 0\n",
        "    passing_pairs = 0\n",
        "\n",
        "    for car in A:\n",
        "        if car == 0:\n",
        "            count_zeros += 1\n",
        "        else:\n",
        "            passing_pairs += count_zeros\n",
        "    if passing_pairs > 1000000000:\n",
        "        return -1\n",
        "\n",
        "    return passing_pairs"
      ],
      "metadata": {
        "id": "22h-TNQcCmL7"
      },
      "execution_count": null,
      "outputs": []
    },
    {
      "cell_type": "code",
      "source": [
        "def solution(A):\n",
        "  count_east = 0\n",
        "  passing_pairs = 0\n",
        "\n",
        "  for car in A:\n",
        "    if car == 0:\n",
        "      count_east += 1\n",
        "    else:\n",
        "      passing_pairs += east\n",
        "\n",
        "  if passing_pairs > 1000000000:\n",
        "    return -1\n",
        "  return passing_pairs"
      ],
      "metadata": {
        "id": "3tHiEU10gRMD"
      },
      "execution_count": null,
      "outputs": []
    },
    {
      "cell_type": "markdown",
      "source": [
        "#homework 2\n",
        "Write a function:\n",
        "\n",
        "def solution(A, B, K)\n",
        "\n",
        "that, given three integers A, B and K, returns the number of integers within the range [A..B] that are divisible by K, i.e.:\n",
        "\n",
        "{ i : A ≤ i ≤ B, i mod K = 0 }\n",
        "\n",
        "For example, for A = 6, B = 11 and K = 2, your function should return 3, because there are three numbers divisible by 2 within the range [6..11], namely 6, 8 and 10.\n",
        "\n",
        "Write an efficient algorithm for the following assumptions:\n",
        "\n",
        "A and B are integers within the range [0..2,000,000,000];\n",
        "K is an integer within the range [1..2,000,000,000];\n",
        "A ≤ B.\n",
        "Copyright 2009–2023 by Codility Limited. All Rights"
      ],
      "metadata": {
        "id": "qPYoNnsACj0A"
      }
    },
    {
      "cell_type": "code",
      "source": [],
      "metadata": {
        "id": "oWGtffH3CmTg"
      },
      "execution_count": null,
      "outputs": []
    },
    {
      "cell_type": "markdown",
      "source": [
        "#homework3\n",
        "\n",
        "A DNA sequence can be represented as a string consisting of the letters A, C, G and T, which correspond to the types of successive nucleotides in the sequence. Each nucleotide has an impact factor, which is an integer. Nucleotides of types A, C, G and T have impact factors of 1, 2, 3 and 4, respectively. You are going to answer several queries of the form: What is the minimal impact factor of nucleotides contained in a particular part of the given DNA sequence?\n",
        "\n",
        "The DNA sequence is given as a non-empty string S = S[0]S[1]...S[N-1] consisting of N characters. There are M queries, which are given in non-empty arrays P and Q, each consisting of M integers. The K-th query (0 ≤ K < M) requires you to find the minimal impact factor of nucleotides contained in the DNA sequence between positions P[K] and Q[K] (inclusive).\n",
        "\n",
        "For example, consider string S = CAGCCTA and arrays P, Q such that:\n",
        "\n",
        "    P[0] = 2    Q[0] = 4\n",
        "    P[1] = 5    Q[1] = 5\n",
        "    P[2] = 0    Q[2] = 6\n",
        "The answers to these M = 3 queries are as follows:\n",
        "\n",
        "The part of the DNA between positions 2 and 4 contains nucleotides G and C (twice), whose impact factors are 3 and 2 respectively, so the answer is 2.\n",
        "The part between positions 5 and 5 contains a single nucleotide T, whose impact factor is 4, so the answer is 4.\n",
        "The part between positions 0 and 6 (the whole string) contains all nucleotides, in particular nucleotide A whose impact factor is 1, so the answer is 1.\n",
        "Write a function:\n",
        "\n",
        "def solution(S, P, Q)\n",
        "\n",
        "that, given a non-empty string S consisting of N characters and two non-empty arrays P and Q consisting of M integers, returns an array consisting of M integers specifying the consecutive answers to all queries.\n",
        "\n",
        "Result array should be returned as an array of integers.\n",
        "\n",
        "For example, given the string S = CAGCCTA and arrays P, Q such that:\n",
        "\n",
        "    P[0] = 2    Q[0] = 4\n",
        "    P[1] = 5    Q[1] = 5\n",
        "    P[2] = 0    Q[2] = 6\n",
        "the function should return the values [2, 4, 1], as explained above.\n",
        "\n",
        "Write an efficient algorithm for the following assumptions:\n",
        "\n",
        "N is an integer within the range [1..100,000];\n",
        "M is an integer within the range [1..50,000];\n",
        "each element of arrays P and Q is an integer within the range [0..N - 1];\n",
        "P[K] ≤ Q[K], where 0 ≤ K < M;\n",
        "string S consists only of upper-case English letters A, C, G, T."
      ],
      "metadata": {
        "id": "gqWhnKe9Cj66"
      }
    },
    {
      "cell_type": "code",
      "source": [],
      "metadata": {
        "id": "It6o07MfCma6"
      },
      "execution_count": null,
      "outputs": []
    },
    {
      "cell_type": "markdown",
      "source": [
        "#homework 4\n",
        "\n",
        "A non-empty array A consisting of N integers is given. A pair of integers (P, Q), such that 0 ≤ P < Q < N, is called a slice of array A (notice that the slice contains at least two elements). The average of a slice (P, Q) is the sum of A[P] + A[P + 1] + ... + A[Q] divided by the length of the slice. To be precise, the average equals (A[P] + A[P + 1] + ... + A[Q]) / (Q − P + 1).\n",
        "\n",
        "For example, array A such that:\n",
        "\n",
        "    A[0] = 4\n",
        "    A[1] = 2\n",
        "    A[2] = 2\n",
        "    A[3] = 5\n",
        "    A[4] = 1\n",
        "    A[5] = 5\n",
        "    A[6] = 8\n",
        "contains the following example slices:\n",
        "\n",
        "slice (1, 2), whose average is (2 + 2) / 2 = 2;\n",
        "slice (3, 4), whose average is (5 + 1) / 2 = 3;\n",
        "slice (1, 4), whose average is (2 + 2 + 5 + 1) / 4 = 2.5.\n",
        "The goal is to find the starting position of a slice whose average is minimal.\n",
        "\n",
        "Write a function:\n",
        "\n",
        "def solution(A)\n",
        "\n",
        "that, given a non-empty array A consisting of N integers, returns the starting position of the slice with the minimal average. If there is more than one slice with a minimal average, you should return the smallest starting position of such a slice.\n",
        "\n",
        "For example, given array A such that:\n",
        "\n",
        "    A[0] = 4\n",
        "    A[1] = 2\n",
        "    A[2] = 2\n",
        "    A[3] = 5\n",
        "    A[4] = 1\n",
        "    A[5] = 5\n",
        "    A[6] = 8\n",
        "the function should return 1, as explained above.\n",
        "\n",
        "Write an efficient algorithm for the following assumptions:\n",
        "\n",
        "N is an integer within the range [2..100,000];\n",
        "each element of array A is an integer within the range [−10,000..10,000]."
      ],
      "metadata": {
        "id": "u_AVOtR2CkAg"
      }
    },
    {
      "cell_type": "code",
      "source": [],
      "metadata": {
        "id": "azVuDMx1Cmij"
      },
      "execution_count": null,
      "outputs": []
    }
  ]
}